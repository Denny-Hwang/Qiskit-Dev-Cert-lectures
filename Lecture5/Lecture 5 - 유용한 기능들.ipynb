{
 "cells": [
  {
   "cell_type": "markdown",
   "metadata": {},
   "source": [
    "# Lecture 5 - 유용한 기능들\n",
    "\n",
    "양자 회로를 시뮬레이터나 실제 양자 장치에 실행 시키기 위해 Qiskit은 여러가지의 유용한 기능들을 제공합니다.\n",
    "\n",
    "1. IBMQ 백엔드 정보\n",
    "2. Qiskit 도구\n",
    "\n",
    "## 1. IBMQ 백엔드 정보\n",
    "\n",
    "백엔드의 정보에 대해 [Lecture 3 - 양자 회로 실행과 백엔드](https://github.com/QuantumComputingKorea/Qiskit-Dev-Cert-lectures/blob/main/Lecture3/Lecture%203%20-%20%EC%96%91%EC%9E%90%20%ED%9A%8C%EB%A1%9C%20%EC%8B%A4%ED%96%89%EA%B3%BC%20%EB%B0%B1%EC%97%94%EB%93%9C.ipynb)에서 어느정도 다뤘지만 이번 강의에서 내용을 추가를 하여 다시 한번 다뤄보겠습니다."
   ]
  },
  {
   "cell_type": "code",
   "execution_count": 17,
   "metadata": {},
   "outputs": [],
   "source": [
    "from qiskit import IBMQ\n",
    "from qiskit.providers.ibmq import least_busy"
   ]
  },
  {
   "cell_type": "code",
   "execution_count": 18,
   "metadata": {},
   "outputs": [
    {
     "name": "stderr",
     "output_type": "stream",
     "text": [
      "ibmqfactory.load_account:WARNING:2022-09-06 02:59:29,881: Credentials are already in use. The existing account in the session will be replaced.\n"
     ]
    },
    {
     "data": {
      "text/plain": [
       "<AccountProvider for IBMQ(hub='ibm-q', group='open', project='main')>"
      ]
     },
     "execution_count": 18,
     "metadata": {},
     "output_type": "execute_result"
    }
   ],
   "source": [
    "IBMQ.load_account()  # 계정을 로드합니다."
   ]
  },
  {
   "cell_type": "markdown",
   "metadata": {},
   "source": [
    "## `IBMQ.providers()`\n",
    "\n",
    "접근 가능한 백엔드 제공자들을 출력합니다."
   ]
  },
  {
   "cell_type": "code",
   "execution_count": 19,
   "metadata": {},
   "outputs": [
    {
     "data": {
      "text/plain": [
       "[<AccountProvider for IBMQ(hub='ibm-q', group='open', project='main')>,\n",
       " <AccountProvider for IBMQ(hub='ibm-q-education', group='ibm-4', project='qiskit-hackathon')>,\n",
       " <AccountProvider for IBMQ(hub='strangeworks-hub', group='qc-com', project='runtime')>,\n",
       " <AccountProvider for IBMQ(hub='q-summer-school', group='main', project='project-3')>]"
      ]
     },
     "execution_count": 19,
     "metadata": {},
     "output_type": "execute_result"
    }
   ],
   "source": [
    "IBMQ.providers()  # 사용 가능한 백엔드 제공자를 확인합니다."
   ]
  },
  {
   "cell_type": "markdown",
   "metadata": {},
   "source": [
    "## 계정에서 접근 가능한 백엔드 목록\n",
    "\n",
    "접근 가능한 백엔드의 목록을 출력하기 위해 두가지의 방법이 있습니다.\n",
    "1. `backend()`\n",
    "2. `get_provider()`"
   ]
  },
  {
   "cell_type": "code",
   "execution_count": 20,
   "metadata": {},
   "outputs": [
    {
     "name": "stderr",
     "output_type": "stream",
     "text": [
      "ibmqfactory.load_account:WARNING:2022-09-06 02:59:41,136: Credentials are already in use. The existing account in the session will be replaced.\n"
     ]
    }
   ],
   "source": [
    "ibmq_account = IBMQ.load_account() # 계정을 로드하여 ibmq_account로 지정합니다."
   ]
  },
  {
   "cell_type": "markdown",
   "metadata": {},
   "source": [
    "***\n",
    "`backends()`를 사용한 목록 출력\n",
    "***"
   ]
  },
  {
   "cell_type": "code",
   "execution_count": 21,
   "metadata": {},
   "outputs": [
    {
     "data": {
      "text/plain": [
       "[<IBMQSimulator('ibmq_qasm_simulator') from IBMQ(hub='ibm-q', group='open', project='main')>,\n",
       " <IBMQBackend('ibmq_lima') from IBMQ(hub='ibm-q', group='open', project='main')>,\n",
       " <IBMQBackend('ibmq_belem') from IBMQ(hub='ibm-q', group='open', project='main')>,\n",
       " <IBMQBackend('ibmq_quito') from IBMQ(hub='ibm-q', group='open', project='main')>,\n",
       " <IBMQSimulator('simulator_statevector') from IBMQ(hub='ibm-q', group='open', project='main')>,\n",
       " <IBMQSimulator('simulator_mps') from IBMQ(hub='ibm-q', group='open', project='main')>,\n",
       " <IBMQSimulator('simulator_extended_stabilizer') from IBMQ(hub='ibm-q', group='open', project='main')>,\n",
       " <IBMQSimulator('simulator_stabilizer') from IBMQ(hub='ibm-q', group='open', project='main')>,\n",
       " <IBMQBackend('ibmq_manila') from IBMQ(hub='ibm-q', group='open', project='main')>,\n",
       " <IBMQBackend('ibm_nairobi') from IBMQ(hub='ibm-q', group='open', project='main')>,\n",
       " <IBMQBackend('ibm_oslo') from IBMQ(hub='ibm-q', group='open', project='main')>]"
      ]
     },
     "execution_count": 21,
     "metadata": {},
     "output_type": "execute_result"
    }
   ],
   "source": [
    "backends = ibmq_account.backends() # 사용 가능한 백엔드를 확인합니다.\n",
    "backends"
   ]
  },
  {
   "cell_type": "markdown",
   "metadata": {},
   "source": [
    "***\n",
    "`get_provider()`를 사용한 목록 출력\n",
    "***"
   ]
  },
  {
   "cell_type": "code",
   "execution_count": 22,
   "metadata": {},
   "outputs": [
    {
     "data": {
      "text/plain": [
       "[<IBMQSimulator('ibmq_qasm_simulator') from IBMQ(hub='ibm-q', group='open', project='main')>,\n",
       " <IBMQBackend('ibmq_lima') from IBMQ(hub='ibm-q', group='open', project='main')>,\n",
       " <IBMQBackend('ibmq_belem') from IBMQ(hub='ibm-q', group='open', project='main')>,\n",
       " <IBMQBackend('ibmq_quito') from IBMQ(hub='ibm-q', group='open', project='main')>,\n",
       " <IBMQSimulator('simulator_statevector') from IBMQ(hub='ibm-q', group='open', project='main')>,\n",
       " <IBMQSimulator('simulator_mps') from IBMQ(hub='ibm-q', group='open', project='main')>,\n",
       " <IBMQSimulator('simulator_extended_stabilizer') from IBMQ(hub='ibm-q', group='open', project='main')>,\n",
       " <IBMQSimulator('simulator_stabilizer') from IBMQ(hub='ibm-q', group='open', project='main')>,\n",
       " <IBMQBackend('ibmq_manila') from IBMQ(hub='ibm-q', group='open', project='main')>,\n",
       " <IBMQBackend('ibm_nairobi') from IBMQ(hub='ibm-q', group='open', project='main')>,\n",
       " <IBMQBackend('ibm_oslo') from IBMQ(hub='ibm-q', group='open', project='main')>]"
      ]
     },
     "execution_count": 22,
     "metadata": {},
     "output_type": "execute_result"
    }
   ],
   "source": [
    "ibmq_provider = IBMQ.get_provider(hub='ibm-q') # ibm-q 허브를 가져옵니다.\n",
    "ibmq_provider.backends() # 허브에 있는 백엔드를 확인합니다."
   ]
  },
  {
   "cell_type": "markdown",
   "metadata": {},
   "source": [
    "이러한 목록 중에서 원하는 백엔드를 선택하여 양자 회로를 실행하고 싶으면 `get_backend`를 사용하거나 `backend.BACKENDNAME`을 사용할 수 있습니다."
   ]
  },
  {
   "cell_type": "code",
   "execution_count": 23,
   "metadata": {},
   "outputs": [
    {
     "data": {
      "text/plain": [
       "<IBMQBackend('ibmq_manila') from IBMQ(hub='ibm-q', group='open', project='main')>"
      ]
     },
     "execution_count": 23,
     "metadata": {},
     "output_type": "execute_result"
    }
   ],
   "source": [
    "backend = ibmq_account.get_backend('ibmq_manila') # 백엔드를 지정합니다.\n",
    "backend"
   ]
  },
  {
   "cell_type": "code",
   "execution_count": 24,
   "metadata": {},
   "outputs": [
    {
     "data": {
      "text/plain": [
       "<IBMQBackend('ibmq_manila') from IBMQ(hub='ibm-q', group='open', project='main')>"
      ]
     },
     "execution_count": 24,
     "metadata": {},
     "output_type": "execute_result"
    }
   ],
   "source": [
    "backend = ibmq_account.backend.ibmq_manila # 백엔드를 지정합니다.\n",
    "backend"
   ]
  },
  {
   "cell_type": "markdown",
   "metadata": {},
   "source": [
    "이러한 백엔드의 목록중 가장 대기열이 적은 백엔드를 찾기 위해서는 `least_bussy`를 사용할 수 있습니다."
   ]
  },
  {
   "cell_type": "code",
   "execution_count": 25,
   "metadata": {},
   "outputs": [
    {
     "data": {
      "text/plain": [
       "<IBMQSimulator('simulator_statevector') from IBMQ(hub='ibm-q', group='open', project='main')>"
      ]
     },
     "execution_count": 25,
     "metadata": {},
     "output_type": "execute_result"
    }
   ],
   "source": [
    "least_busy(ibmq_provider.backends())"
   ]
  },
  {
   "cell_type": "markdown",
   "metadata": {},
   "source": [
    "백엔드 목록중에 원하는 조건부를 넣어 백엔드를 필터링을 하여 찾을 수 있습니다. 이에 대한 자세한 내용은 지난 강의인 [Lecture 3 - 양자 회로 실행과 백엔드](https://github.com/QuantumComputingKorea/Qiskit-Dev-Cert-lectures/blob/main/Lecture3/Lecture%203%20-%20%EC%96%91%EC%9E%90%20%ED%9A%8C%EB%A1%9C%20%EC%8B%A4%ED%96%89%EA%B3%BC%20%EB%B0%B1%EC%97%94%EB%93%9C.ipynb)에서 자세히 알 수 있습니다.\n",
    "\n",
    "## 2. Qiskit 도구\n",
    "\n",
    "Qiskit에서는 양자 장치나 시뮬레이선에 보낸 장치를 모니터링 하거나 백엔드를 모니터링 할 수 있는 도구를 재공하고 있습니다. 대표적인 도구들은 아래와 같습니다.\n",
    "1. `backend_overview()`\n",
    "2. `backend_monitor()`\n",
    "3. `job_monitor`\n",
    "\n",
    "### `backend_overview()`\n",
    "\n",
    "IBMQ 백엔드의 접근 가능한 전체적인 정보를 출력합니다."
   ]
  },
  {
   "cell_type": "code",
   "execution_count": 29,
   "metadata": {},
   "outputs": [
    {
     "data": {
      "text/plain": [
       "<IBMQBackend('ibmq_manila') from IBMQ(hub='ibm-q', group='open', project='main')>"
      ]
     },
     "execution_count": 29,
     "metadata": {},
     "output_type": "execute_result"
    }
   ],
   "source": [
    "least_busy(ibmq_provider.backends(simulator=False, operational=True)) # 시뮬레이터가 아니고 작동 중인 백엔드 중 가장 빠른 백엔드를 가져옵니다.\n",
    "backend"
   ]
  },
  {
   "cell_type": "code",
   "execution_count": 30,
   "metadata": {},
   "outputs": [],
   "source": [
    "from qiskit.tools import backend_overview # backend_overview를 불러옵니다."
   ]
  },
  {
   "cell_type": "code",
   "execution_count": null,
   "metadata": {},
   "outputs": [],
   "source": [
    "backend_overview() # 백엔드의 전체적인 정보를 확인합니다."
   ]
  },
  {
   "cell_type": "markdown",
   "metadata": {},
   "source": [
    "### `backend_monitor()`\n",
    "\n",
    "하나의 IBMQ 백엔드의 정보를 출력합니다."
   ]
  },
  {
   "cell_type": "code",
   "execution_count": 33,
   "metadata": {},
   "outputs": [],
   "source": [
    "from qiskit.tools import backend_monitor # backend_monitor을 불러옵니다."
   ]
  },
  {
   "cell_type": "code",
   "execution_count": 34,
   "metadata": {},
   "outputs": [
    {
     "name": "stdout",
     "output_type": "stream",
     "text": [
      "ibmq_manila\n",
      "===========\n",
      "Configuration\n",
      "-------------\n",
      "    n_qubits: 5\n",
      "    operational: True\n",
      "    status_msg: active\n",
      "    pending_jobs: 152\n",
      "    backend_version: 1.0.35\n",
      "    basis_gates: ['id', 'rz', 'sx', 'x', 'cx', 'reset']\n",
      "    local: False\n",
      "    simulator: False\n",
      "    sample_name: family: Falcon, revision: 5.11, segment: L\n",
      "    qubit_channel_mapping: [['u0', 'm0', 'u1', 'd0'], ['u1', 'u3', 'm1', 'u0', 'd1', 'u2'], ['d2', 'u3', 'm2', 'u4', 'u2', 'u5'], ['d3', 'u7', 'u4', 'm3', 'u6', 'u5'], ['u7', 'd4', 'm4', 'u6']]\n",
      "    meas_map: [[0, 1, 2, 3, 4]]\n",
      "    dynamic_reprate_enabled: True\n",
      "    default_rep_delay: 250.0\n",
      "    qubit_lo_range: [[4.462278512219218, 5.462278512219218], [4.337873583054781, 5.337873583054781], [4.537249657893639, 5.537249657893639], [4.450975050449358, 5.450975050449358], [4.564980520220528, 5.564980520220528]]\n",
      "    supported_features: ['qobj']\n",
      "    memory: True\n",
      "    u_channel_lo: [[{'q': 1, 'scale': (1+0j)}], [{'q': 0, 'scale': (1+0j)}], [{'q': 2, 'scale': (1+0j)}], [{'q': 1, 'scale': (1+0j)}], [{'q': 3, 'scale': (1+0j)}], [{'q': 2, 'scale': (1+0j)}], [{'q': 4, 'scale': (1+0j)}], [{'q': 3, 'scale': (1+0j)}]]\n",
      "    discriminators: ['hw_qmfk', 'quadratic_discriminator', 'linear_discriminator']\n",
      "    conditional_latency: []\n",
      "    backend_name: ibmq_manila\n",
      "    open_pulse: False\n",
      "    uchannels_enabled: True\n",
      "    url: None\n",
      "    meas_levels: [1, 2]\n",
      "    measure_esp_enabled: False\n",
      "    rep_times: [1000.0]\n",
      "    max_shots: 20000\n",
      "    n_uchannels: 8\n",
      "    rep_delay_range: [0.0, 500.0]\n",
      "    credits_required: True\n",
      "    acquisition_latency: []\n",
      "    meas_kernels: ['hw_qmfk']\n",
      "    hamiltonian: {'description': 'Qubits are modeled as Duffing oscillators. In this case, the system includes higher energy states, i.e. not just |0> and |1>. The Pauli operators are generalized via the following set of transformations:\\n\\n$(\\\\mathbb{I}-\\\\sigma_{i}^z)/2 \\\\rightarrow O_i \\\\equiv b^\\\\dagger_{i} b_{i}$,\\n\\n$\\\\sigma_{+} \\\\rightarrow b^\\\\dagger$,\\n\\n$\\\\sigma_{-} \\\\rightarrow b$,\\n\\n$\\\\sigma_{i}^X \\\\rightarrow b^\\\\dagger_{i} + b_{i}$.\\n\\nQubits are coupled through resonator buses. The provided Hamiltonian has been projected into the zero excitation subspace of the resonator buses leading to an effective qubit-qubit flip-flop interaction. The qubit resonance frequencies in the Hamiltonian are the cavity dressed frequencies and not exactly what is returned by the backend defaults, which also includes the dressing due to the qubit-qubit interactions.\\n\\nQuantities are returned in angular frequencies, with units 2*pi*GHz.\\n\\nWARNING: Currently not all system Hamiltonian information is available to the public, missing values have been replaced with 0.\\n', 'h_latex': '\\\\begin{align} \\\\mathcal{H}/\\\\hbar = & \\\\sum_{i=0}^{4}\\\\left(\\\\frac{\\\\omega_{q,i}}{2}(\\\\mathbb{I}-\\\\sigma_i^{z})+\\\\frac{\\\\Delta_{i}}{2}(O_i^2-O_i)+\\\\Omega_{d,i}D_i(t)\\\\sigma_i^{X}\\\\right) \\\\\\\\ & + J_{0,1}(\\\\sigma_{0}^{+}\\\\sigma_{1}^{-}+\\\\sigma_{0}^{-}\\\\sigma_{1}^{+}) + J_{1,2}(\\\\sigma_{1}^{+}\\\\sigma_{2}^{-}+\\\\sigma_{1}^{-}\\\\sigma_{2}^{+}) + J_{2,3}(\\\\sigma_{2}^{+}\\\\sigma_{3}^{-}+\\\\sigma_{2}^{-}\\\\sigma_{3}^{+}) + J_{3,4}(\\\\sigma_{3}^{+}\\\\sigma_{4}^{-}+\\\\sigma_{3}^{-}\\\\sigma_{4}^{+}) \\\\\\\\ & + \\\\Omega_{d,0}(U_{0}^{(0,1)}(t))\\\\sigma_{0}^{X} + \\\\Omega_{d,1}(U_{1}^{(1,0)}(t)+U_{2}^{(1,2)}(t))\\\\sigma_{1}^{X} \\\\\\\\ & + \\\\Omega_{d,2}(U_{3}^{(2,1)}(t)+U_{4}^{(2,3)}(t))\\\\sigma_{2}^{X} + \\\\Omega_{d,3}(U_{6}^{(3,4)}(t)+U_{5}^{(3,2)}(t))\\\\sigma_{3}^{X} \\\\\\\\ & + \\\\Omega_{d,4}(U_{7}^{(4,3)}(t))\\\\sigma_{4}^{X} \\\\\\\\ \\\\end{align}', 'h_str': ['_SUM[i,0,4,wq{i}/2*(I{i}-Z{i})]', '_SUM[i,0,4,delta{i}/2*O{i}*O{i}]', '_SUM[i,0,4,-delta{i}/2*O{i}]', '_SUM[i,0,4,omegad{i}*X{i}||D{i}]', 'jq0q1*Sp0*Sm1', 'jq0q1*Sm0*Sp1', 'jq1q2*Sp1*Sm2', 'jq1q2*Sm1*Sp2', 'jq2q3*Sp2*Sm3', 'jq2q3*Sm2*Sp3', 'jq3q4*Sp3*Sm4', 'jq3q4*Sm3*Sp4', 'omegad1*X0||U0', 'omegad0*X1||U1', 'omegad2*X1||U2', 'omegad1*X2||U3', 'omegad3*X2||U4', 'omegad4*X3||U6', 'omegad2*X3||U5', 'omegad3*X4||U7'], 'osc': {}, 'qub': {'0': 3, '1': 3, '2': 3, '3': 3, '4': 3}, 'vars': {'delta0': -2.1573187977651487, 'delta1': -2.1753119475601674, 'delta2': -2.159281266514359, 'delta3': -2.158603148482815, 'delta4': -2.1495256907311115, 'jq0q1': 0.011845444218797994, 'jq1q2': 0.01196783968906386, 'jq2q3': 0.01240211395601237, 'jq3q4': 0.01218691037040823, 'omegad0': 0.930077367661923, 'omegad1': 0.9479037941417267, 'omegad2': 0.9283848407203358, 'omegad3': 0.9477530128319395, 'omegad4': 0.9463199586899765, 'wq0': 31.17891543810877, 'wq1': 30.397256215042066, 'wq2': 31.64997303907271, 'wq3': 31.107893693196118, 'wq4': 31.824211185800444}}\n",
      "    allow_object_storage: True\n",
      "    dtm: 0.2222222222222222\n",
      "    online_date: 2021-04-28 04:00:00+00:00\n",
      "    quantum_volume: 32\n",
      "    max_experiments: 100\n",
      "    channels: {'acquire0': {'operates': {'qubits': [0]}, 'purpose': 'acquire', 'type': 'acquire'}, 'acquire1': {'operates': {'qubits': [1]}, 'purpose': 'acquire', 'type': 'acquire'}, 'acquire2': {'operates': {'qubits': [2]}, 'purpose': 'acquire', 'type': 'acquire'}, 'acquire3': {'operates': {'qubits': [3]}, 'purpose': 'acquire', 'type': 'acquire'}, 'acquire4': {'operates': {'qubits': [4]}, 'purpose': 'acquire', 'type': 'acquire'}, 'd0': {'operates': {'qubits': [0]}, 'purpose': 'drive', 'type': 'drive'}, 'd1': {'operates': {'qubits': [1]}, 'purpose': 'drive', 'type': 'drive'}, 'd2': {'operates': {'qubits': [2]}, 'purpose': 'drive', 'type': 'drive'}, 'd3': {'operates': {'qubits': [3]}, 'purpose': 'drive', 'type': 'drive'}, 'd4': {'operates': {'qubits': [4]}, 'purpose': 'drive', 'type': 'drive'}, 'm0': {'operates': {'qubits': [0]}, 'purpose': 'measure', 'type': 'measure'}, 'm1': {'operates': {'qubits': [1]}, 'purpose': 'measure', 'type': 'measure'}, 'm2': {'operates': {'qubits': [2]}, 'purpose': 'measure', 'type': 'measure'}, 'm3': {'operates': {'qubits': [3]}, 'purpose': 'measure', 'type': 'measure'}, 'm4': {'operates': {'qubits': [4]}, 'purpose': 'measure', 'type': 'measure'}, 'u0': {'operates': {'qubits': [0, 1]}, 'purpose': 'cross-resonance', 'type': 'control'}, 'u1': {'operates': {'qubits': [1, 0]}, 'purpose': 'cross-resonance', 'type': 'control'}, 'u2': {'operates': {'qubits': [1, 2]}, 'purpose': 'cross-resonance', 'type': 'control'}, 'u3': {'operates': {'qubits': [2, 1]}, 'purpose': 'cross-resonance', 'type': 'control'}, 'u4': {'operates': {'qubits': [2, 3]}, 'purpose': 'cross-resonance', 'type': 'control'}, 'u5': {'operates': {'qubits': [3, 2]}, 'purpose': 'cross-resonance', 'type': 'control'}, 'u6': {'operates': {'qubits': [3, 4]}, 'purpose': 'cross-resonance', 'type': 'control'}, 'u7': {'operates': {'qubits': [4, 3]}, 'purpose': 'cross-resonance', 'type': 'control'}}\n",
      "    coupling_map: [[0, 1], [1, 0], [1, 2], [2, 1], [2, 3], [3, 2], [3, 4], [4, 3]]\n",
      "    conditional: False\n",
      "    pulse_num_channels: 9\n",
      "    input_allowed: ['job', 'runtime']\n",
      "    dt: 0.2222222222222222\n",
      "    parallel_compilation: True\n",
      "    supported_instructions: ['rz', 'u1', 'u3', 'cx', 'reset', 'sx', 'measure', 'setf', 'acquire', 'delay', 'x', 'shiftf', 'u2', 'id', 'play']\n",
      "    description: 5 qubit device\n",
      "    timing_constraints: {'acquire_alignment': 16, 'granularity': 16, 'min_length': 64, 'pulse_alignment': 1}\n",
      "    allow_q_object: True\n",
      "    clops: 2819\n",
      "    multi_meas_enabled: True\n",
      "    meas_lo_range: [[6.663170819, 7.663170819], [6.783276284, 7.783276284], [6.718945583, 7.718945583000001], [6.610101402000001, 7.610101402000001], [6.8468927090000005, 7.8468927090000005]]\n",
      "    n_registers: 1\n",
      "    live_data: False\n",
      "    processor_type: {'family': 'Falcon', 'revision': '5.11', 'segment': 'L'}\n",
      "    pulse_num_qubits: 3\n",
      "    parametric_pulses: ['gaussian', 'gaussian_square', 'drag', 'constant']\n",
      "\n",
      "Qubits [Name / Freq / T1 / T2 / RZ err / SX err / X err / Readout err]\n",
      "----------------------------------------------------------------------\n",
      "    Q0 / 4.96228 GHz / 137.10404 us / 100.92797 us / 0.00000 / 0.00033 / 0.00033 / 0.02760 \n",
      "    Q1 / 4.83787 GHz / 239.32126 us / 78.24729 us / 0.00000 / 0.00019 / 0.00019 / 0.02890 \n",
      "    Q2 / 5.03725 GHz / 154.83379 us / 24.83825 us / 0.00000 / 0.00033 / 0.00033 / 0.04160 \n",
      "    Q3 / 4.95098 GHz / 216.60521 us / 46.12402 us / 0.00000 / 0.00019 / 0.00019 / 0.02950 \n",
      "    Q4 / 5.06498 GHz / 134.79147 us / 45.07806 us / 0.00000 / 0.00044 / 0.00044 / 0.02070 \n",
      "\n",
      "Multi-Qubit Gates [Name / Type / Gate Error]\n",
      "--------------------------------------------\n",
      "    cx4_3 / cx / 0.00551\n",
      "    cx3_4 / cx / 0.00551\n",
      "    cx2_3 / cx / 0.00716\n",
      "    cx3_2 / cx / 0.00716\n",
      "    cx1_2 / cx / 0.00978\n",
      "    cx2_1 / cx / 0.00978\n",
      "    cx0_1 / cx / 0.00793\n",
      "    cx1_0 / cx / 0.00793\n"
     ]
    }
   ],
   "source": [
    "backend_monitor(backend) # 선택한 백엔드의 상태를 확인합니다."
   ]
  },
  {
   "cell_type": "markdown",
   "metadata": {},
   "source": [
    "### `job_monitor()`\n",
    "\n",
    "백엔드에 보내진 양자 회로의 작업 상태를 모니터링 할 수 있게 해주는 도구 입니다."
   ]
  },
  {
   "cell_type": "code",
   "execution_count": 37,
   "metadata": {},
   "outputs": [],
   "source": [
    "from qiskit.tools import job_monitor # job_monitor를 불러옵니다.\n",
    "from qiskit import *"
   ]
  },
  {
   "cell_type": "code",
   "execution_count": 39,
   "metadata": {},
   "outputs": [
    {
     "data": {
      "image/png": "[encoded data removed]",
      "text/plain": [
       "<Figure size 447.797x264.88 with 1 Axes>"
      ]
     },
     "execution_count": 39,
     "metadata": {},
     "output_type": "execute_result"
    }
   ],
   "source": [
    "qc = QuantumCircuit(3,3) # 3개의 큐비트와 3개의 고전 비트를 가진 회로를 생성합니다.\n",
    "qc.h(0) # 0번 큐비트에 하다마드 게이트를 적용합니다.\n",
    "qc.cx(0,1) # 0번 큐비트와 1번 큐비트에 CNOT 게이트를 적용합니다.\n",
    "qc.cx(1,2) # 1번 큐비트와 2번 큐비트에 CNOT 게이트를 적용합니다.\n",
    "qc.measure([0,1,2],[0,1,2]) # 모든 큐비트를 측정합니다.\n",
    "qc.draw(output='mpl') # 회로를 그립니다."
   ]
  },
  {
   "cell_type": "code",
   "execution_count": 47,
   "metadata": {},
   "outputs": [],
   "source": [
    "job=execute(qc,backend,shots=1024) # 1024번의 샷을 실행합니다."
   ]
  },
  {
   "cell_type": "code",
   "execution_count": 48,
   "metadata": {},
   "outputs": [
    {
     "name": "stdout",
     "output_type": "stream",
     "text": [
      "Job Status: job has successfully run\n"
     ]
    }
   ],
   "source": [
    "job_monitor(job) # 작업의 진행 상황을 확인합니다."
   ]
  },
  {
   "cell_type": "code",
   "execution_count": 49,
   "metadata": {},
   "outputs": [
    {
     "name": "stdout",
     "output_type": "stream",
     "text": [
      "{'000': 503, '111': 521}\n"
     ]
    }
   ],
   "source": [
    "result=job.result() # 결과를 가져옵니다.\n",
    "counts=result.get_counts() # 결과의 카운트를 가져옵니다.\n",
    "print(counts) # 카운트를 출력합니다."
   ]
  },
  {
   "cell_type": "markdown",
   "metadata": {},
   "source": [
    "보낸 작업도 여러가지의 모듈을 이용하여 정보를 불러올 수 있습니다.\n",
    "1. `job_id`: 작업의 Id를 불러옵니다.\n",
    "2. `backend()`: 작업이 보내진 백엔드의 정보를 불러옵니다.\n",
    "3. `result()`: 작업의 결과를 불러옵니다.\n",
    "4. `status()`: 작업의 상태를 불러옵니다."
   ]
  },
  {
   "cell_type": "code",
   "execution_count": 50,
   "metadata": {},
   "outputs": [
    {
     "data": {
      "text/plain": [
       "'63163e1e2a446d10d97ea5bb'"
      ]
     },
     "execution_count": 50,
     "metadata": {},
     "output_type": "execute_result"
    }
   ],
   "source": [
    "job.job_id()"
   ]
  },
  {
   "cell_type": "code",
   "execution_count": 51,
   "metadata": {},
   "outputs": [
    {
     "data": {
      "text/plain": [
       "<IBMQSimulator('ibmq_qasm_simulator') from IBMQ(hub='ibm-q', group='open', project='main')>"
      ]
     },
     "execution_count": 51,
     "metadata": {},
     "output_type": "execute_result"
    }
   ],
   "source": [
    "job.backend()"
   ]
  },
  {
   "cell_type": "code",
   "execution_count": 52,
   "metadata": {},
   "outputs": [
    {
     "data": {
      "text/plain": [
       "Result(backend_name='ibmq_qasm_simulator', backend_version='0.10.4', qobj_id='af3c8abd-1716-4cff-9684-a097d957b789', job_id='63163e1e2a446d10d97ea5bb', success=True, results=[ExperimentResult(shots=1024, success=True, meas_level=2, data=ExperimentResultData(counts={'0x0': 503, '0x7': 521}), header=QobjExperimentHeader(clbit_labels=[['c', 0], ['c', 1], ['c', 2]], creg_sizes=[['c', 3]], global_phase=0.0, memory_slots=3, metadata={}, n_qubits=3, name='circuit-79', qreg_sizes=[['q', 3]], qubit_labels=[['q', 0], ['q', 1], ['q', 2]]), status=DONE, metadata={'active_input_qubits': [0, 1, 2], 'batched_shots_optimization': False, 'device': 'CPU', 'fusion': {'enabled': False}, 'input_qubit_map': [[2, 2], [1, 1], [0, 0]], 'measure_sampling': True, 'method': 'stabilizer', 'noise': 'ideal', 'num_clbits': 3, 'num_qubits': 3, 'parallel_shots': 1, 'parallel_state_update': 16, 'remapped_qubits': False}, seed_simulator=2728260334, time_taken=0.001962836)], date=2022-09-06 03:21:21.673227+09:00, status=COMPLETED, header=QobjHeader(backend_name='ibmq_qasm_simulator', backend_version='0.1.547'), metadata={'max_gpu_memory_mb': 0, 'max_memory_mb': 386782, 'mpi_rank': 0, 'num_mpi_processes': 1, 'omp_enabled': True, 'parallel_experiments': 1, 'time_taken': 0.002108463, 'time_taken_execute': 0.001991717, 'time_taken_load_qobj': 0.000107759}, time_taken=0.002108463, client_version={'qiskit': '0.37.0'})"
      ]
     },
     "execution_count": 52,
     "metadata": {},
     "output_type": "execute_result"
    }
   ],
   "source": [
    "job.result()"
   ]
  },
  {
   "cell_type": "code",
   "execution_count": 53,
   "metadata": {},
   "outputs": [
    {
     "data": {
      "text/plain": [
       "<JobStatus.DONE: 'job has successfully run'>"
      ]
     },
     "execution_count": 53,
     "metadata": {},
     "output_type": "execute_result"
    }
   ],
   "source": [
    "job.status()"
   ]
  },
  {
   "cell_type": "code",
   "execution_count": 54,
   "metadata": {},
   "outputs": [
    {
     "data": {
      "text/html": [
       "<h3>Version Information</h3><table><tr><th>Qiskit Software</th><th>Version</th></tr><tr><td><code>qiskit-terra</code></td><td>0.21.0</td></tr><tr><td><code>qiskit-aer</code></td><td>0.10.4</td></tr><tr><td><code>qiskit-ibmq-provider</code></td><td>0.19.2</td></tr><tr><td><code>qiskit</code></td><td>0.37.0</td></tr><tr><th>System information</th></tr><tr><td>Python version</td><td>3.10.5</td></tr><tr><td>Python compiler</td><td>Clang 13.0.1 </td></tr><tr><td>Python build</td><td>main, Jun 14 2022 07:03:09</td></tr><tr><td>OS</td><td>Darwin</td></tr><tr><td>CPUs</td><td>8</td></tr><tr><td>Memory (Gb)</td><td>16.0</td></tr><tr><td colspan='2'>Tue Sep 06 03:25:06 2022 KST</td></tr></table>"
      ],
      "text/plain": [
       "<IPython.core.display.HTML object>"
      ]
     },
     "metadata": {},
     "output_type": "display_data"
    }
   ],
   "source": [
    "import qiskit.tools.jupyter\n",
    "%qiskit_version_table #qiskit 버전 표시하기"
   ]
  },
  {
   "cell_type": "code",
   "execution_count": null,
   "metadata": {},
   "outputs": [],
   "source": []
  }
 ],
 "metadata": {
  "kernelspec": {
   "display_name": "Python 3.10.5 ('qiskit')",
   "language": "python",
   "name": "python3"
  },
  "language_info": {
   "codemirror_mode": {
    "name": "ipython",
    "version": 3
   },
   "file_extension": ".py",
   "mimetype": "text/x-python",
   "name": "python",
   "nbconvert_exporter": "python",
   "pygments_lexer": "ipython3",
   "version": "3.10.5"
  },
  "orig_nbformat": 4,
  "vscode": {
   "interpreter": {
    "hash": "61e38d38e362baf74507d5f9568815ca017052702bd5356c9e3eea1ad7c412ff"
   }
  }
 },
 "nbformat": 4,
 "nbformat_minor": 2
}
